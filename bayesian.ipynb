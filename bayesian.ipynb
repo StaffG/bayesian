{
 "cells": [
  {
   "cell_type": "markdown",
   "metadata": {},
   "source": [
    "# Bayesian Linear Regression"
   ]
  },
  {
   "cell_type": "markdown",
   "metadata": {},
   "source": [
    "As the Maximum Likelihood Estimation (MLE) suffers from over-fitting, we mooved to the Maximum A Posteriori (MAP) which takes into account a prior on the parameter $\\theta$ and return the one that maximises the posterior.\n",
    "\n",
    "A further approach is to derive the probabilistic distribution of the posterior and sample directly from it.\n",
    "\n",
    "\\begin{align*}\n",
    "p(\\theta|y) = \\frac{p(y,\\theta)}{p(y)}\n",
    "\\end{align*}\n",
    "\n",
    "As shown above, this requires to compute the marginal likelihood, which can be expressed:\n",
    "\n",
    "\\begin{align*}\n",
    "p(y) = \\int p(y,\\theta)d\\theta\n",
    "\\end{align*}\n",
    "\n",
    "If we choose a conjugate parameter prior $p(\\theta)$, we can compute the marginal likelihood in closed form. It is generally intractable though, so numerical approches (Monte Carlo) may be required.\n",
    "\n",
    "In this example, we consider the following linear regression problem, where $\\Phi$ defines the features, and $\\epsilon$ is a Gaussian $\\mathcal{N}(0,\\beta I)$:\n",
    "\n",
    "\\begin{align*}\n",
    "y = \\Phi^T(x)\\theta + \\epsilon\n",
    "\\end{align*}\n",
    "\n",
    "In addition, we choose the prior on $\\theta$ to be a Gaussian $\\mathcal{N}(0,\\alpha I)$\n",
    "\n",
    "The joint distribution can now easily be expressed:\n",
    "\n",
    "\\begin{align*}\n",
    "p(y, \\theta) = \\mathcal{N}(y|\\Phi^T \\theta, \\beta I) \\mathcal{N}(\\theta|0, \\alpha I)\n",
    "\\end{align*}\n",
    "\n",
    "The idea is to find the best $\\alpha$ and $\\beta$ to maximise the marginal likelihood. A commum way is to derive the expression of the negative log marginal likelihood and try to minimise it by a gradient method descent.\n",
    "\n",
    "As said above, since we have choosen a conjugate prior, a closed form solution for the marginal likelihood can be found. Using the fact that the product of two Gaussians is an unormalised Gaussian, and in calculating both the mean and the variance of the obtained Gaussian, it can be shown that:\n",
    "\n",
    "\\begin{align*}\n",
    "p(y) & = \\int \\mathcal{N}(y|\\Phi^T \\theta, \\beta I) \\mathcal{N}(\\theta|0, \\alpha I)\\\\\n",
    "& =\\frac{1}{(2\\pi)^{\\frac{N}{2}}|\\alpha \\Phi \\Phi^T + \\beta I|^{\\frac{1}{2}}}\\exp \\left(-\\frac{1}{2}y^T(\\alpha \\Phi \\Phi^T + \\beta I)^{-1} y \\right)\n",
    "\\end{align*}\n",
    "\n",
    "Taking the negative log:\n",
    "\n",
    "\\begin{align*}\n",
    "-\\log p(y) =\\frac{N}{2} \\log 2\\pi + \\frac{1}{2} \\log|\\alpha \\Phi \\Phi^T + \\beta I| + \\frac{1}{2}y^T(\\alpha \\Phi \\Phi^T + \\beta I)^{-1} y\n",
    "\\end{align*}"
   ]
  },
  {
   "cell_type": "markdown",
   "metadata": {},
   "source": [
    "The partial derivatives with respect to $\\alpha$ and $\\beta$ can be calculated:\n",
    "\n",
    "\\begin{align*}\n",
    "\\frac{\\partial }{\\partial \\alpha} = \\\\\n",
    "\\frac{\\partial }{\\partial \\beta} = \\\\\n",
    "\\end{align*}"
   ]
  },
  {
   "cell_type": "code",
   "execution_count": null,
   "metadata": {},
   "outputs": [],
   "source": []
  }
 ],
 "metadata": {
  "kernelspec": {
   "display_name": "Python 3",
   "language": "python",
   "name": "python3"
  },
  "language_info": {
   "codemirror_mode": {
    "name": "ipython",
    "version": 3
   },
   "file_extension": ".py",
   "mimetype": "text/x-python",
   "name": "python",
   "nbconvert_exporter": "python",
   "pygments_lexer": "ipython3",
   "version": "3.6.7"
  },
  "varInspector": {
   "cols": {
    "lenName": 16,
    "lenType": 16,
    "lenVar": 40
   },
   "kernels_config": {
    "python": {
     "delete_cmd_postfix": "",
     "delete_cmd_prefix": "del ",
     "library": "var_list.py",
     "varRefreshCmd": "print(var_dic_list())"
    },
    "r": {
     "delete_cmd_postfix": ") ",
     "delete_cmd_prefix": "rm(",
     "library": "var_list.r",
     "varRefreshCmd": "cat(var_dic_list()) "
    }
   },
   "types_to_exclude": [
    "module",
    "function",
    "builtin_function_or_method",
    "instance",
    "_Feature"
   ],
   "window_display": false
  }
 },
 "nbformat": 4,
 "nbformat_minor": 2
}
